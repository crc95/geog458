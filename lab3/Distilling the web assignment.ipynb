{
 "cells": [
  {
   "cell_type": "markdown",
   "metadata": {},
   "source": [
    "### Distilling the Web Assignment\n",
    "\n",
    "\n",
    "####  Christina Chappell\n",
    "#### February 20, 2017\n",
    "\n",
    "Site: http://students.washington.edu/chappchr/movies_wa.html"
   ]
  },
  {
   "cell_type": "markdown",
   "metadata": {},
   "source": [
    "##### Importing Packages\n",
    "This will do all the importing to let me do my work."
   ]
  },
  {
   "cell_type": "code",
   "execution_count": 1,
   "metadata": {
    "collapsed": false
   },
   "outputs": [],
   "source": [
    "import urllib2\n",
    "import lxml\n",
    "from lxml import html\n",
    "import cssselect\n"
   ]
  },
  {
   "cell_type": "code",
   "execution_count": 2,
   "metadata": {
    "collapsed": false
   },
   "outputs": [],
   "source": [
    "import json\n",
    "import requests\n"
   ]
  },
  {
   "cell_type": "code",
   "execution_count": 3,
   "metadata": {
    "collapsed": false
   },
   "outputs": [],
   "source": [
    "import pandas\n",
    "import folium"
   ]
  },
  {
   "cell_type": "code",
   "execution_count": 4,
   "metadata": {
    "collapsed": false
   },
   "outputs": [],
   "source": [
    "import random"
   ]
  },
  {
   "cell_type": "markdown",
   "metadata": {},
   "source": [
    "##### Scraping the website\n",
    "This grabs the correct website we want to scrape which is : http://www.onlyinyourstate.com/washington/washington-movies/\n",
    "\n",
    "I used this website because I am interested in where movies are filmed, and specifically where movies were filmed in Washington. This website talks about 8 movies that were filmed in WA.\n",
    "\n",
    "estimated time: 3 hours"
   ]
  },
  {
   "cell_type": "code",
   "execution_count": 10,
   "metadata": {
    "collapsed": false
   },
   "outputs": [],
   "source": [
    "url = \"http://www.onlyinyourstate.com/washington/washington-movies/\"\n",
    "req = urllib2.Request(url, headers={'User-Agent' : \"Magic Browser\"}) \n",
    "con = urllib2.urlopen( req )\n",
    "doc_text = con.read()\n",
    "doc = lxml.html.fromstring(doc_text)\n",
    "doc.make_links_absolute(url)"
   ]
  },
  {
   "cell_type": "markdown",
   "metadata": {},
   "source": [
    "##### Scraping for movie description\n",
    "Here we created a list of the titles we scraped from the chosen website. The selector we chose here was the root for all of the individual articles. From there we created another selector to grab the actual data we needed for our lists."
   ]
  },
  {
   "cell_type": "code",
   "execution_count": 11,
   "metadata": {
    "collapsed": false,
    "scrolled": false
   },
   "outputs": [],
   "source": [
    "description_list = []\n",
    "for row in doc.cssselect('#gallery-1 figure'):\n",
    "    single_row = row.cssselect(\"div[class=' gallery-description ']\")\n",
    "    if len(single_row) != 0:\n",
    "        event_title = single_row.pop().text\n",
    "        description_list.append(event_title)\n",
    "description_list[1] = \"Monroe is a city in Snohomish County\" \n",
    "# this description would return \"Republic of Namibia\" which I think is the default value when no place is detected.\n",
    "# So I hard coded the location that was within that movie description to clean the data."
   ]
  },
  {
   "cell_type": "markdown",
   "metadata": {},
   "source": [
    "##### Scraping for movie name\n",
    "This creates the list of dates for the same website as above. The logic for our selectors is the same as above, just changed to fit the dates."
   ]
  },
  {
   "cell_type": "code",
   "execution_count": 12,
   "metadata": {
    "collapsed": false,
    "scrolled": true
   },
   "outputs": [],
   "source": [
    "movie_list = []\n",
    "for row in doc.cssselect('#gallery-1 figure'):\n",
    "    single_row = row.cssselect(\"figcaption[class=' gallery-caption ']\") \n",
    "    if len(single_row) != 0:\n",
    "        event_title = single_row.pop().text\n",
    "        movie_list.append(event_title)\n"
   ]
  },
  {
   "cell_type": "markdown",
   "metadata": {},
   "source": [
    "##### Geoparser\n",
    "This creates an empty json list to hold the geo references from the api that will be done down below\n",
    "\n",
    "estimated time: 4 hours"
   ]
  },
  {
   "cell_type": "code",
   "execution_count": 13,
   "metadata": {
    "collapsed": false
   },
   "outputs": [],
   "source": [
    "json_list = [0]*8"
   ]
  },
  {
   "cell_type": "markdown",
   "metadata": {
    "collapsed": true
   },
   "source": [
    "Here I used the documentation from the geoparser.io to create the correct information needed to complete this assignment. This finds the locations of all the places that have been used to film based on the desciptions above."
   ]
  },
  {
   "cell_type": "code",
   "execution_count": 51,
   "metadata": {
    "collapsed": false,
    "scrolled": true
   },
   "outputs": [],
   "source": [
    "url = 'https://geoparser.io/api/geoparser'\n",
    "headers = {'Authorization': 'apiKey 94861936067943054'}\n",
    "counter = 0\n",
    "for row in description_list:\n",
    "    data = {'inputText': str(description_list[counter])}\n",
    "    response = requests.post(url, headers= headers, data= data)\n",
    "    json_file = json.dumps(response.json(), indent=2)\n",
    "    json_as_dictionary = json.loads(json_file)\n",
    "    json_list[counter] = json_as_dictionary\n",
    "    counter += 1\n"
   ]
  },
  {
   "cell_type": "markdown",
   "metadata": {},
   "source": [
    "##### Color generator\n",
    "I used this code to make a random color generator http://stackoverflow.com/questions/13998901/generating-a-random-hex-color-in-python \n",
    "this creates a list for unique random colors in hex format for the number of movies that are in the movie_list."
   ]
  },
  {
   "cell_type": "code",
   "execution_count": 52,
   "metadata": {
    "collapsed": false
   },
   "outputs": [],
   "source": [
    "#make marker colors with dictionary \n",
    "color_list = []\n",
    "count_mov = 0\n",
    "for row in movie_list:\n",
    "    r = lambda: random.randint(0,255)\n",
    "    color = ('#%02X%02X%02X' % (r(),r(),r()))\n",
    "    color_list.append(color)\n",
    "    count_mov += 1\n"
   ]
  },
  {
   "cell_type": "markdown",
   "metadata": {},
   "source": [
    "##### Complete lists for each place\n",
    "This creates the lists that will be used for the geodataframe. The lists consist of one point for each place that a movie is filmed in. Some movies have multiple locations so there are multiple rows for a single movie with different point \n",
    "\n",
    "estimated time: 5 hours"
   ]
  },
  {
   "cell_type": "code",
   "execution_count": 57,
   "metadata": {
    "collapsed": false
   },
   "outputs": [
    {
     "name": "stdout",
     "output_type": "stream",
     "text": [
      "[48.11815, -123.43074]\n",
      "[47.70204, -122.62098]\n",
      "[39.76, -98.5]\n",
      "[48.04602, -121.72218]\n",
      "[47.60621, -122.33207]\n",
      "[47.50012, -120.50147]\n",
      "[47.60621, -122.33207]\n",
      "[48.5126, -122.61267]\n",
      "[48.86381, -117.37247]\n",
      "[47.50012, -120.50147]\n",
      "[48.24121, -122.37071]\n",
      "[44.00013, -120.50139]\n",
      "[48.2926, -122.67628]\n",
      "[47.50012, -120.50147]\n",
      "[37.25022, -119.75126]\n",
      "[-25.0, 122.0]\n",
      "[48.75955, -122.48822]\n",
      "[47.60621, -122.33207]\n",
      "[48.11704, -122.76045]\n",
      "[47.50012, -120.50147]\n",
      "[47.60621, -122.33207]\n",
      "[47.25288, -122.44429]\n"
     ]
    }
   ],
   "source": [
    "counter = 0\n",
    "total_dict = {}\n",
    "#new lists for the dataframe\n",
    "movies = []\n",
    "description = []\n",
    "location_list = []\n",
    "new_color = []\n",
    "#finding the coordinates for each point and creating the final list all of the same length\n",
    "for movie in movie_list:\n",
    "    movie_dict = json_list[counter]\n",
    "    for location in movie_dict['features']:\n",
    "        movie_shoot =  location['geometry']['coordinates']\n",
    "        print movie_shoot\n",
    "        movies.append(movie_list[counter]) \n",
    "        description.append(description_list[counter]) \n",
    "        location_list.append(movie_shoot)\n",
    "        new_color.append(color_list[counter])\n",
    "    counter +=1\n"
   ]
  },
  {
   "cell_type": "markdown",
   "metadata": {},
   "source": [
    "This sometimes works to reverse the lat/long data. sometimes it doesn't... I don't really understand. It works once, but if I keep running my code it re-reverses it back to the wrong order and my map won't work.\n"
   ]
  },
  {
   "cell_type": "code",
   "execution_count": 58,
   "metadata": {
    "collapsed": false
   },
   "outputs": [],
   "source": [
    "#counter_test = 0\n",
    "#for row in location_list:\n",
    "    #location_list[counter_test].reverse()\n",
    "    #print location_list[counter]\n",
    "    #counter_test += 1\n",
    "    "
   ]
  },
  {
   "cell_type": "markdown",
   "metadata": {},
   "source": [
    "##### Create the GeoDataFrame\n",
    "This creates the dataframe for all the data I scraped and the correct geocodes for the places in the movie descriptions. This also creates the csv file to easily view the resulting dataframe."
   ]
  },
  {
   "cell_type": "code",
   "execution_count": 59,
   "metadata": {
    "collapsed": false
   },
   "outputs": [],
   "source": [
    "dataf = {'Movie' : movies, 'Description' : description, 'Location' : location_list, 'Color' : new_color}\n",
    "\n",
    "pandas_df = pandas.DataFrame(dataf)\n",
    "#make the geodataframe into a csv file.\n",
    "pandas_df.to_csv(\"movie_file1.csv\") \n"
   ]
  },
  {
   "cell_type": "code",
   "execution_count": 60,
   "metadata": {
    "collapsed": false
   },
   "outputs": [
    {
     "data": {
      "text/html": [
       "<div>\n",
       "<table border=\"1\" class=\"dataframe\">\n",
       "  <thead>\n",
       "    <tr style=\"text-align: right;\">\n",
       "      <th></th>\n",
       "      <th>Color</th>\n",
       "      <th>Description</th>\n",
       "      <th>Location</th>\n",
       "      <th>Movie</th>\n",
       "    </tr>\n",
       "  </thead>\n",
       "  <tbody>\n",
       "    <tr>\n",
       "      <th>0</th>\n",
       "      <td>#D00212</td>\n",
       "      <td>Based on a popular Tom Clancy novel, this movi...</td>\n",
       "      <td>[48.11815, -123.43074]</td>\n",
       "      <td>\"The Hunt For Red October\", 1990</td>\n",
       "    </tr>\n",
       "    <tr>\n",
       "      <th>1</th>\n",
       "      <td>#D00212</td>\n",
       "      <td>Based on a popular Tom Clancy novel, this movi...</td>\n",
       "      <td>[47.70204, -122.62098]</td>\n",
       "      <td>\"The Hunt For Red October\", 1990</td>\n",
       "    </tr>\n",
       "    <tr>\n",
       "      <th>2</th>\n",
       "      <td>#D00212</td>\n",
       "      <td>Based on a popular Tom Clancy novel, this movi...</td>\n",
       "      <td>[39.76, -98.5]</td>\n",
       "      <td>\"The Hunt For Red October\", 1990</td>\n",
       "    </tr>\n",
       "    <tr>\n",
       "      <th>3</th>\n",
       "      <td>#C71DE4</td>\n",
       "      <td>Monroe is a city in Snohomish County</td>\n",
       "      <td>[48.04602, -121.72218]</td>\n",
       "      <td>\"The Butterfly Effect\", 2004</td>\n",
       "    </tr>\n",
       "    <tr>\n",
       "      <th>4</th>\n",
       "      <td>#B901EF</td>\n",
       "      <td>If the title doesn't ring a bell, chances are ...</td>\n",
       "      <td>[47.60621, -122.33207]</td>\n",
       "      <td>\"Say Anything...\", 1989</td>\n",
       "    </tr>\n",
       "  </tbody>\n",
       "</table>\n",
       "</div>"
      ],
      "text/plain": [
       "     Color                                        Description  \\\n",
       "0  #D00212  Based on a popular Tom Clancy novel, this movi...   \n",
       "1  #D00212  Based on a popular Tom Clancy novel, this movi...   \n",
       "2  #D00212  Based on a popular Tom Clancy novel, this movi...   \n",
       "3  #C71DE4               Monroe is a city in Snohomish County   \n",
       "4  #B901EF  If the title doesn't ring a bell, chances are ...   \n",
       "\n",
       "                 Location                             Movie  \n",
       "0  [48.11815, -123.43074]  \"The Hunt For Red October\", 1990  \n",
       "1  [47.70204, -122.62098]  \"The Hunt For Red October\", 1990  \n",
       "2          [39.76, -98.5]  \"The Hunt For Red October\", 1990  \n",
       "3  [48.04602, -121.72218]      \"The Butterfly Effect\", 2004  \n",
       "4  [47.60621, -122.33207]           \"Say Anything...\", 1989  "
      ]
     },
     "execution_count": 60,
     "metadata": {},
     "output_type": "execute_result"
    }
   ],
   "source": [
    "pandas_df.head()"
   ]
  },
  {
   "cell_type": "markdown",
   "metadata": {},
   "source": [
    "##### Create the Map\n",
    "Here I am setting up the folium map with the coordinates and zoom that I want. I chose this zoom because the data is showing where films were shot in Washington State. The tile I chose was clean and organized looking. I used circles because the hex code I generated would not work with the default icon. Each movie has a different color so it is easier to see where which movies filmed in Washington State\n",
    "\n",
    "estimated time: 4 hours"
   ]
  },
  {
   "cell_type": "code",
   "execution_count": 76,
   "metadata": {
    "collapsed": false,
    "scrolled": true
   },
   "outputs": [
    {
     "data": {
      "text/html": [
       "<div style=\"width:100%;\"><div style=\"position:relative;width:100%;height:0;padding-bottom:60%;\"><iframe src=\"data:text/html;base64,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\" style=\"position:absolute;width:100%;height:100%;left:0;top:0;\"></iframe></div></div>"
      ],
      "text/plain": [
       "<folium.folium.Map at 0x15f50db0>"
      ]
     },
     "execution_count": 76,
     "metadata": {},
     "output_type": "execute_result"
    }
   ],
   "source": [
    "#initialize the map\n",
    "map_center_lat = 47.6\n",
    "map_center_long = -120.5\n",
    "map_zoom = 7\n",
    "my_map = folium.Map(location=[map_center_lat, map_center_long], zoom_start= map_zoom, tiles=\"cartodbpositron\")\n",
    "#making the individual points\n",
    "count = 0\n",
    "for row in location_list:\n",
    "    one_point = location_list[count]\n",
    "    folium.CircleMarker([one_point[0],one_point[1]], \n",
    "                        radius=8000,\n",
    "                        popup= movies[count], \n",
    "                        color=new_color[count],\n",
    "                       fill_color=new_color[count]).add_to(my_map)\n",
    "    count += 1\n",
    "#saves as an html to view on the web    \n",
    "my_map.save('movies_wa.html')\n",
    "my_map"
   ]
  },
  {
   "cell_type": "markdown",
   "metadata": {},
   "source": [
    "##### Making the Shapfile\n",
    "\n",
    "Here I attempted to make a shapefile with my data. I was able to put the lat/long of all my points into a shapefile but without the data that goes with it. There are no movie names or descritions for the movies, just the points. There is also a spatial reference issue. I tried finding a way to make my folium map into a shapefile but was unsuccessfull, and the datafram.to_file was not working as well."
   ]
  },
  {
   "cell_type": "code",
   "execution_count": 62,
   "metadata": {
    "collapsed": false
   },
   "outputs": [],
   "source": [
    "import sys\n",
    "sys.path.append('C:\\\\Program Files (x86)\\\\ArcGIS\\\\Desktop10.3\\\\bin')\n",
    "sys.path.append('C:\\\\Program Files (x86)\\\\ArcGIS\\\\Desktop10.3\\\\arcpy')\n",
    "sys.path.append('C:\\\\Program Files (x86)\\\\ArcGIS\\\\Desktop10.3\\\\ArcToolbox\\\\Scripts')\n",
    "import arcpy\n"
   ]
  },
  {
   "cell_type": "code",
   "execution_count": 6,
   "metadata": {
    "collapsed": false
   },
   "outputs": [],
   "source": [
    "arcpy.env.workspace = \"U:\\\\Geography\\\\GEOG458\" \n",
    "\n",
    "new_shapefile = arcpy.CreateFeatureclass_management(\"U:\\\\Geography\\\\GEOG458\", 'movie_location1.shp', \"POINT\")"
   ]
  },
  {
   "cell_type": "code",
   "execution_count": 75,
   "metadata": {
    "collapsed": false
   },
   "outputs": [
    {
     "data": {
      "text/plain": [
       "<Result 'U:\\\\\\\\Geography\\\\\\\\GEOG458\\\\test_shape.shp'>"
      ]
     },
     "execution_count": 75,
     "metadata": {},
     "output_type": "execute_result"
    }
   ],
   "source": [
    "table_shp = []\n",
    "pt = arcpy.Point()\n",
    "for p in location_list:\n",
    "    pt.X = p[1]\n",
    "    pt.Y = p[0]\n",
    "    table_shp.append(arcpy.PointGeometry(pt))\n",
    "    \n",
    "#creates a shapefile with no spatial reference...\n",
    "arcpy.CopyFeatures_management(table_shp, r\"U:\\\\Geography\\\\GEOG458\\\\test_shape.shp\")\n"
   ]
  },
  {
   "cell_type": "code",
   "execution_count": null,
   "metadata": {
    "collapsed": true
   },
   "outputs": [],
   "source": []
  }
 ],
 "metadata": {
  "kernelspec": {
   "display_name": "Python 2",
   "language": "python",
   "name": "python2"
  },
  "language_info": {
   "codemirror_mode": {
    "name": "ipython",
    "version": 2
   },
   "file_extension": ".py",
   "mimetype": "text/x-python",
   "name": "python",
   "nbconvert_exporter": "python",
   "pygments_lexer": "ipython2",
   "version": "2.7.13"
  }
 },
 "nbformat": 4,
 "nbformat_minor": 2
}
