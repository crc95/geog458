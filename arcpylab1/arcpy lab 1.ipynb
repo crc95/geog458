{
 "cells": [
  {
   "cell_type": "markdown",
   "metadata": {},
   "source": [
    "## Christina Chappell\n",
    "### ArcPy Lab 1 \n",
    "### February 1, 2017\n",
    "\n",
    "#### Total Hours: A little under 20 hours over the past week."
   ]
  },
  {
   "cell_type": "markdown",
   "metadata": {},
   "source": [
    "### part 1. Creating geoJSON files for each county in WA.\n"
   ]
  },
  {
   "cell_type": "code",
   "execution_count": 1,
   "metadata": {
    "collapsed": false
   },
   "outputs": [],
   "source": [
    "## This lets me use arcpy within this python setting.\n",
    "import sys\n",
    "sys.path.append('C:\\\\Program Files (x86)\\\\ArcGIS\\\\Desktop10.4\\\\bin')\n",
    "sys.path.append('C:\\\\Program Files (x86)\\\\ArcGIS\\\\Desktop10.4\\\\arcpy')\n",
    "sys.path.append('C:\\\\Program Files (x86)\\\\ArcGIS\\\\Desktop10.4\\\\ArcToolbox\\\\Scripts')\n",
    "import arcpy"
   ]
  },
  {
   "cell_type": "markdown",
   "metadata": {},
   "source": [
    "#### This code will let me convert the shapefiles into geoJSON files later on"
   ]
  },
  {
   "cell_type": "code",
   "execution_count": 2,
   "metadata": {
    "collapsed": true
   },
   "outputs": [],
   "source": [
    "## This lets me make geoJSON files\n",
    "from subprocess import call\n",
    "import os\n",
    "\n",
    "os.environ[\"GDAL_DATA\"] = \"C:\\\\OSGeo4W64\\\\share\\\\gdal\"\n",
    "os.environ[\"GDAL_DRIVER_PATH\"] = \"C:\\\\OSGeo4W64\\\\bin\\\\gdalplugins\"\n",
    "os.environ[\"PROJ_LIB\"] = \"C:\\\\OSGeo4W64\\\\share\\\\proj\"\n",
    "os.environ[\"PATH\"] = \"C:\\\\OSGeo4W64\\\\bin;\"+os.environ[\"PATH\"]+\";C:\\\\OSGeo4W64\\\\apps\\\\msys\\\\bin;C:\\\\OSGeo4W64\\\\apps\\\\Python27\\\\Scripts\"\n"
   ]
  },
  {
   "cell_type": "markdown",
   "metadata": {},
   "source": [
    "### This creates the separate shapefiles for each county from the original provided shapefile\n",
    "#### To create the geoJSON files for each county based on just the block data I changed methods a few times. I knew I had to iterate through both files to make sure that the county names are with the correct blocks, at first I created a new field in the saep_bg10 file but that kept taking too long to implement. I used a nested for loop to get all the blocks with a search cursor and an update cursor. When I changed course I made both search cursors and created the new shape files all at once by using an insert cursor. The part of the assignment was done in small steps that worked into the last step to make the code more complicated but being able to do it all at once."
   ]
  },
  {
   "cell_type": "code",
   "execution_count": null,
   "metadata": {
    "collapsed": false,
    "scrolled": true
   },
   "outputs": [],
   "source": [
    "#Setting up the workspace, and creating copy files to make the altering of fields easier\n",
    "arcpy.env.workspace = \"U:\\\\Geography\\\\GEOG458\" \n",
    "arcpy.env.overwriteOutput = True\n",
    "\n",
    "arcpy.management.CopyFeatures(\n",
    "    \"U:\\\\Geography\\\\Geog458\\\\saep_bg11\\\\saep_bg10.shp\",\n",
    "    \"U:\\\\Geography\\\\Geog458\\\\saep_bg11\\\\saep_bg10_copy.shp\")\n",
    "\n",
    "#This calls the two files provided from the assignment\n",
    "fc = \"U:\\\\Geography\\\\GEOG458\\\\saep_bg11\\\\saep_bg10_copy.shp\"\n",
    "fips = \"U:\\\\Geography\\\\GEOG458\\\\arcpylab1\\\\WashingtonFIPS.dbf\"\n",
    "\n",
    "#which fields to use and copy\n",
    "fields_to_use =[\"SHAPE@\", \"COUNTYFP10\", \"POP2016\"]\n",
    "#cursor to search over the counties and connect the correct\n",
    "#  rows to the county files\n",
    "cursor_wa = arcpy.da.SearchCursor(fips, [\"FIPSCounty\", \"CountyName\"])\n",
    "\n",
    "for row in cursor_wa:\n",
    "    filename = row[1] + \".shp\"\n",
    "    new_table = arcpy.CreateFeatureclass_management(\n",
    "        \"U:\\\\Geography\\\\GEOG458\\\\geojson\\\\\", filename, \"polygon\", fc)\n",
    "    #search the saep file for the correct rows\n",
    "    cursor_saep = arcpy.da.SearchCursor(fc, fields_to_use)\n",
    "    #cursor to insert the rows to the new shape files\n",
    "    cursor_to_insert = arcpy.da.InsertCursor(new_table, fields_to_use)\n",
    "    \n",
    "    #Inserts the block row into the correct shapfile\n",
    "    for row2 in cursor_saep:  \n",
    "        if (row[0] == row2[1]):      \n",
    "            cursor_to_insert.insertRow(row2)\n",
    "\n",
    "del cursor_wa\n",
    "del cursor_saep\n",
    "del cursor_to_insert\n"
   ]
  },
  {
   "cell_type": "markdown",
   "metadata": {},
   "source": [
    "### Creating the geoJSON files\n",
    "#### This part I struggled with because the I had the incorrect code copied from canvas, once I got the correct code it was lot easier to use the search cursor and create the geoJSON files correctly."
   ]
  },
  {
   "cell_type": "code",
   "execution_count": 11,
   "metadata": {
    "collapsed": false
   },
   "outputs": [],
   "source": [
    "arcpy.env.workspace = \"U:/Geography/GEOG458\" \n",
    "arcpy.env.overwriteOutput = True\n",
    "#To go through all the counties and make the correct files\n",
    "cursor = arcpy.da.SearchCursor(fips, \"CountyName\")\n",
    "for row in cursor:\n",
    "    geojson_file = 'U:\\\\Geography\\\\GEOG458\\\\geojson\\\\file\\\\' + row[0] + '.geojson'\n",
    "    shape_file = 'U:\\\\Geography\\\\GEOG458\\\\geojson\\\\' + row[0] + '.shp'\n",
    "    \n",
    "    call(['C:\\\\OSGeo4W64\\\\bin\\\\ogr2ogr',\n",
    "          '-f','GeoJSON','-t_srs','WGS84',\n",
    "         '-s_srs','EPSG:2927', \n",
    "        geojson_file, \n",
    "          shape_file])\n",
    "del cursor"
   ]
  },
  {
   "cell_type": "markdown",
   "metadata": {},
   "source": [
    "### Part 2: Top 10 populations by County\n",
    "#### This part took less amount of time. My thinking on it was to have another nested for loop with cursors to go over each block and get the population from that block. I add the populations together from the same counties and append a list I created with the total county population. Then I sort the list and print out the top 10 populations."
   ]
  },
  {
   "cell_type": "code",
   "execution_count": 30,
   "metadata": {
    "collapsed": false
   },
   "outputs": [
    {
     "name": "stdout",
     "output_type": "stream",
     "text": [
      "10: 190429\n",
      "9: 212484\n",
      "8: 250819\n",
      "7: 262513\n",
      "6: 272611\n",
      "5: 460870\n",
      "4: 492378\n",
      "3: 772609\n",
      "2: 844211\n",
      "1: 2104403\n"
     ]
    }
   ],
   "source": [
    "#Create an empty list to put all of the populations for the counties\n",
    "my_list = []\n",
    "pop = 0\n",
    "\n",
    "#Use 2 cursors and a nested for loop again to add each blocks pop to the county pop\n",
    "fipcursor = arcpy.da.SearchCursor(fips, [\"FIPSCounty\", \"CountyName\"])\n",
    "for row in fipcursor:\n",
    "    popcursor = arcpy.da.SearchCursor(fc, ['COUNTYFP10', 'POP2016'])\n",
    "    for row2 in popcursor:\n",
    "        if row[0] == row2[0]:\n",
    "            pop = pop + row2[1]\n",
    "            pop = int(pop)\n",
    "    my_list.append(pop)\n",
    "    pop = 0\n",
    "\n",
    "#this will print out the list of top 10 populations. Descending from 10 to 1\n",
    "my_list.sort(reverse = True)\n",
    "n = 9\n",
    "while n >= 0:\n",
    "    print  str(n + 1) + \": \" + str(my_list[n])\n",
    "    n = n - 1\n",
    "  "
   ]
  },
  {
   "cell_type": "code",
   "execution_count": null,
   "metadata": {
    "collapsed": true
   },
   "outputs": [],
   "source": []
  }
 ],
 "metadata": {
  "kernelspec": {
   "display_name": "Python 2",
   "language": "python",
   "name": "python2"
  },
  "language_info": {
   "codemirror_mode": {
    "name": "ipython",
    "version": 2
   },
   "file_extension": ".py",
   "mimetype": "text/x-python",
   "name": "python",
   "nbconvert_exporter": "python",
   "pygments_lexer": "ipython2",
   "version": "2.7.11"
  }
 },
 "nbformat": 4,
 "nbformat_minor": 0
}
