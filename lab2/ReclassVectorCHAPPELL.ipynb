{
 "cells": [
  {
   "cell_type": "markdown",
   "metadata": {},
   "source": [
    "## Christina Chappell\n",
    "### Geoprocessing Tool Assignment\n",
    "#### GEOG 458, 10 February 2017"
   ]
  },
  {
   "cell_type": "code",
   "execution_count": 2,
   "metadata": {
    "collapsed": false
   },
   "outputs": [],
   "source": [
    "import sys\n",
    "sys.path.append('C:\\\\Program Files (x86)\\\\ArcGIS\\\\Desktop10.4\\\\bin')\n",
    "sys.path.append('C:\\\\Program Files (x86)\\\\ArcGIS\\\\Desktop10.4\\\\arcpy')\n",
    "sys.path.append('C:\\\\Program Files (x86)\\\\ArcGIS\\\\Desktop10.4\\\\ArcToolbox\\\\Scripts')\n",
    "import arcpy"
   ]
  },
  {
   "cell_type": "markdown",
   "metadata": {},
   "source": [
    "This first cell creates the space for the geoprocessing tool. All of the parameters are set in this part, with user inputed values for the parameters. I also create the new feature class at the end."
   ]
  },
  {
   "cell_type": "code",
   "execution_count": 3,
   "metadata": {
    "collapsed": false,
    "scrolled": true
   },
   "outputs": [
    {
     "ename": "ExecuteError",
     "evalue": "Failed to execute. Parameters are not valid.\nERROR 000732: Input Features: Dataset -f does not exist or is not supported\nFailed to execute (CopyFeatures).\n",
     "output_type": "error",
     "traceback": [
      "\u001b[1;31m---------------------------------------------------------------------------\u001b[0m",
      "\u001b[1;31mExecuteError\u001b[0m                              Traceback (most recent call last)",
      "\u001b[1;32m<ipython-input-3-188beab8839d>\u001b[0m in \u001b[0;36m<module>\u001b[1;34m()\u001b[0m\n\u001b[0;32m     30\u001b[0m \u001b[1;33m\u001b[0m\u001b[0m\n\u001b[0;32m     31\u001b[0m \u001b[1;31m# Adds the original features to the copy file\u001b[0m\u001b[1;33m\u001b[0m\u001b[1;33m\u001b[0m\u001b[0m\n\u001b[1;32m---> 32\u001b[1;33m \u001b[0marcpy\u001b[0m\u001b[1;33m.\u001b[0m\u001b[0mCopyFeatures_management\u001b[0m\u001b[1;33m(\u001b[0m\u001b[0morig_shapefile\u001b[0m\u001b[1;33m,\u001b[0m \u001b[0moutclass\u001b[0m\u001b[1;33m)\u001b[0m\u001b[1;33m\u001b[0m\u001b[0m\n\u001b[0m",
      "\u001b[1;32mC:\\Program Files (x86)\\ArcGIS\\Desktop10.4\\arcpy\\arcpy\\management.py\u001b[0m in \u001b[0;36mCopyFeatures\u001b[1;34m(in_features, out_feature_class, config_keyword, spatial_grid_1, spatial_grid_2, spatial_grid_3)\u001b[0m\n\u001b[0;32m   2333\u001b[0m         \u001b[1;32mreturn\u001b[0m \u001b[0mretval\u001b[0m\u001b[1;33m\u001b[0m\u001b[0m\n\u001b[0;32m   2334\u001b[0m     \u001b[1;32mexcept\u001b[0m \u001b[0mException\u001b[0m\u001b[1;33m,\u001b[0m \u001b[0me\u001b[0m\u001b[1;33m:\u001b[0m\u001b[1;33m\u001b[0m\u001b[0m\n\u001b[1;32m-> 2335\u001b[1;33m         \u001b[1;32mraise\u001b[0m \u001b[0me\u001b[0m\u001b[1;33m\u001b[0m\u001b[0m\n\u001b[0m\u001b[0;32m   2336\u001b[0m \u001b[1;33m\u001b[0m\u001b[0m\n\u001b[0;32m   2337\u001b[0m \u001b[1;33m@\u001b[0m\u001b[0mgptooldoc\u001b[0m\u001b[1;33m(\u001b[0m\u001b[1;34m'DeleteFeatures_management'\u001b[0m\u001b[1;33m,\u001b[0m \u001b[0mNone\u001b[0m\u001b[1;33m)\u001b[0m\u001b[1;33m\u001b[0m\u001b[0m\n",
      "\u001b[1;31mExecuteError\u001b[0m: Failed to execute. Parameters are not valid.\nERROR 000732: Input Features: Dataset -f does not exist or is not supported\nFailed to execute (CopyFeatures).\n"
     ]
    }
   ],
   "source": [
    "arcpy.env.overwriteOutput = True\n",
    "\n",
    "##this will be the shapefile that will eventually be user provided\n",
    "orig_shapefile = arcpy.GetParameterAsText(0)\n",
    "##the created copy of the user provided\n",
    "outclass =arcpy.GetParameterAsText(1)\n",
    "\n",
    "#specified field that will be classifed. Will be doubles\n",
    "infield = arcpy.GetParameterAsText(2)\n",
    "\n",
    "# new field created with the reclassification. user generated\n",
    "outfield = arcpy.GetParameterAsText(3)\n",
    "\n",
    "# this will be the value used if the field is not \n",
    "# within the bounds in the table. notfoundvalue\n",
    "default_value = arcpy.GetParameterAsText(4)\n",
    "\n",
    "# table provided to classify with. \n",
    "# columns: lowerbound, upperbound, value\n",
    "reclasstable = arcpy.GetParameterAsText(5)\n",
    "\n",
    "\n",
    "arcpy.AddMessage(\"Parameters I am seeing:\")\n",
    "\n",
    "arcpy.AddMessage(\"0: \"+ orig_shapefile + \": this shapefile\")\n",
    "arcpy.AddMessage(\"1: \"+ outclass +\": new copy of shapefile\")\n",
    "arcpy.AddMessage(\"2: \"+ infield + \": field to classify\")\n",
    "arcpy.AddMessage(\"3: \"+ outfield + \": name of new field\")\n",
    "arcpy.AddMessage(\"4: \"+ reclasstable + \": table to classify with\")\n",
    "\n",
    "# Adds the original features to the copy file\n",
    "arcpy.CopyFeatures_management(orig_shapefile, outclass)"
   ]
  },
  {
   "cell_type": "markdown",
   "metadata": {
    "collapsed": true
   },
   "source": [
    "The second part does all of the work with the above parameters. Here I create a new field and use an Update Cursor to input values to the new field based on if the chosen field (infield) is between the values in the reclass table. If the value is not between the lower/upper bound then it is set to the default value chosen by the user. "
   ]
  },
  {
   "cell_type": "code",
   "execution_count": null,
   "metadata": {
    "collapsed": false
   },
   "outputs": [],
   "source": [
    "# creates the new field in the copy of the original shapefile.\n",
    "# this is the file we will be editing and adding the results to\n",
    "arcpy.AddField_management(outclass, outfield, \"DOUBLE\", 9)\n",
    "\n",
    "#To update the newly created field, using a double for loop\n",
    "outclass_cursor = arcpy.da.UpdateCursor(outclass, [infield, outfield])\n",
    "\n",
    "# this for loop runs through each row to populate the new field with the reclassification\n",
    "for row in outclass_cursor:\n",
    "    table_cursor = arcpy.da.SearchCursor(reclasstable, \"*\")\n",
    "    hasUpdated = False\n",
    "    for row2 in table_cursor:\n",
    "        if (row[0] >= row2[1] and row[0] <= row2[2]): # within the ranges provided\n",
    "            row[1] = row2[3]\n",
    "            hasUpdated = True\n",
    "    # This will put the default value for everything that does not fall within ranges.\n",
    "    if (hasUpdated == False):\n",
    "        row[1] = default_value\n",
    "        hasUpdated = True\n",
    "    outclass_cursor.updateRow(row)\n",
    "\n",
    "    # I had help from a friend, informatics student,\n",
    "    # to think through some of the logic of this part. \n",
    "\n",
    "del outclass_cursor\n",
    "del table_cursor\n"
   ]
  },
  {
   "cell_type": "markdown",
   "metadata": {},
   "source": [
    "When I would encounter an error or a function/method that I was unfamiliar with, I would used the esri pages for definitions and stackoverflow to see code that had similar problems. None of the code was copied, it was all done by me. My friend in informatics helped with logic and trying to debug, but his focus is with java so it was broad help not specific coding. \n",
    "\n",
    "Overall time spent on this assignment: ~ 15 hours"
   ]
  },
  {
   "cell_type": "code",
   "execution_count": null,
   "metadata": {
    "collapsed": true
   },
   "outputs": [],
   "source": []
  }
 ],
 "metadata": {
  "kernelspec": {
   "display_name": "Python 2",
   "language": "python",
   "name": "python2"
  },
  "language_info": {
   "codemirror_mode": {
    "name": "ipython",
    "version": 2
   },
   "file_extension": ".py",
   "mimetype": "text/x-python",
   "name": "python",
   "nbconvert_exporter": "python",
   "pygments_lexer": "ipython2",
   "version": "2.7.11"
  }
 },
 "nbformat": 4,
 "nbformat_minor": 2
}
